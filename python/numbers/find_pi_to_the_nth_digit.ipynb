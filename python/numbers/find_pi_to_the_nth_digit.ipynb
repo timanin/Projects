{
 "cells": [
  {
   "cell_type": "markdown",
   "metadata": {},
   "source": [
    "# Numbers\n"
   ]
  },
  {
   "cell_type": "markdown",
   "metadata": {
    "ein.tags": "worksheet-0",
    "slideshow": {
     "slide_type": "slide"
    }
   },
   "source": [
    "## Find PI to the Nth Digit\n",
    "\n",
    "Enter a number and have the program generate PI up to that many decimal places. Keep a limit to how far the program will go."
   ]
  },
  {
   "cell_type": "code",
   "execution_count": 25,
   "metadata": {
    "autoscroll": false,
    "ein.tags": "worksheet-0",
    "slideshow": {
     "slide_type": "-"
    }
   },
   "outputs": [],
   "source": [
    "precision = 6"
   ]
  },
  {
   "cell_type": "code",
   "execution_count": 27,
   "metadata": {
    "autoscroll": false,
    "ein.tags": "worksheet-0",
    "slideshow": {
     "slide_type": "-"
    }
   },
   "outputs": [
    {
     "name": "stdout",
     "output_type": "stream",
     "text": [
      "3.141592\n"
     ]
    }
   ],
   "source": [
    "### import sys\n",
    "import math\n",
    "from decimal import Decimal\n",
    "from operator import add, sub\n",
    "from functools import reduce\n",
    "import itertools\n",
    "\n",
    "def denominator(n):\n",
    "    return n*(n+1)*(n+2)\n",
    "\n",
    "def series(n):\n",
    "    num = 1\n",
    "    while num < n:\n",
    "        yield 4/denominator(num*2)\n",
    "        num += 1\n",
    "        \n",
    "def nilakantha_series(n):\n",
    "    result = 3\n",
    "    op = add\n",
    "    for i in series(n):\n",
    "        result = op(result, i)\n",
    "        op = sub if op == add else add\n",
    "    return result\n",
    "    \n",
    "pi_value = nilakantha_series(50000)\n",
    "\n",
    "(pi_whole, pi_decimal) = str(pi_value).split('.')[:]\n",
    "\n",
    "print('{}.{}'.format(pi_whole, pi_decimal[:precision]))"
   ]
  },
  {
   "cell_type": "markdown",
   "metadata": {},
   "source": [
    "---\n",
    "## Find e to the Nth Digit\n",
    "Just like the previous problem, but with e instead of PI. Enter a number and have the program generate e up to that many decimal places. Keep a limit to how far the program will go.\n"
   ]
  },
  {
   "cell_type": "code",
   "execution_count": 59,
   "metadata": {
    "collapsed": true
   },
   "outputs": [],
   "source": [
    "precision = 6"
   ]
  },
  {
   "cell_type": "code",
   "execution_count": 60,
   "metadata": {},
   "outputs": [
    {
     "name": "stdout",
     "output_type": "stream",
     "text": [
      "2.718281\n"
     ]
    }
   ],
   "source": [
    "e_value = math.e\n",
    "\n",
    "(whole, decimal) = str(e_value).split('.')[:]\n",
    "\n",
    "print('{}.{}'.format(whole,decimal[:precision]))"
   ]
  },
  {
   "cell_type": "code",
   "execution_count": null,
   "metadata": {
    "collapsed": true
   },
   "outputs": [],
   "source": []
  }
 ],
 "metadata": {
  "kernelspec": {
   "display_name": "Python 3",
   "language": "python",
   "name": "python3"
  },
  "language_info": {
   "codemirror_mode": {
    "name": "ipython",
    "version": 3
   },
   "file_extension": ".py",
   "mimetype": "text/x-python",
   "name": "python",
   "nbconvert_exporter": "python",
   "pygments_lexer": "ipython3",
   "version": "3.6.1"
  },
  "name": "find_pi_to_the_nth_digit.ipynb"
 },
 "nbformat": 4,
 "nbformat_minor": 2
}
